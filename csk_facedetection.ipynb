{
  "nbformat": 4,
  "nbformat_minor": 0,
  "metadata": {
    "colab": {
      "provenance": [],
      "authorship_tag": "ABX9TyOzmX6F/EiXpgeh1YpY/Txw",
      "include_colab_link": true
    },
    "kernelspec": {
      "name": "python3",
      "display_name": "Python 3"
    },
    "language_info": {
      "name": "python"
    }
  },
  "cells": [
    {
      "cell_type": "markdown",
      "metadata": {
        "id": "view-in-github",
        "colab_type": "text"
      },
      "source": [
        "<a href=\"https://colab.research.google.com/github/ekjeon01/rPPG/blob/main/csk_facedetection.ipynb\" target=\"_parent\"><img src=\"https://colab.research.google.com/assets/colab-badge.svg\" alt=\"Open In Colab\"/></a>"
      ]
    },
    {
      "cell_type": "code",
      "source": [
        "from google.colab import drive\n",
        "drive.mount('/content/drive')"
      ],
      "metadata": {
        "colab": {
          "base_uri": "https://localhost:8080/"
        },
        "id": "16yhU2oufwz_",
        "outputId": "02fcbbda-c80b-4148-b6f6-ce1865d71cf1"
      },
      "execution_count": 2,
      "outputs": [
        {
          "output_type": "stream",
          "name": "stdout",
          "text": [
            "Mounted at /content/drive\n"
          ]
        }
      ]
    },
    {
      "cell_type": "code",
      "source": [
        "os.chdir('/content/drive/MyDrive/RPPG/PythonVideoPulserate/VideoHealthMonitoring')"
      ],
      "metadata": {
        "id": "Hgd0cgIlf4iW"
      },
      "execution_count": 3,
      "outputs": []
    },
    {
      "cell_type": "code",
      "source": [
        "pip install imageio"
      ],
      "metadata": {
        "colab": {
          "base_uri": "https://localhost:8080/"
        },
        "id": "z2wj246ngUwB",
        "outputId": "3508498d-da57-45fc-dee8-a6e004a20d08"
      },
      "execution_count": 6,
      "outputs": [
        {
          "output_type": "stream",
          "name": "stdout",
          "text": [
            "Looking in indexes: https://pypi.org/simple, https://us-python.pkg.dev/colab-wheels/public/simple/\n",
            "Requirement already satisfied: imageio in /usr/local/lib/python3.10/dist-packages (2.25.1)\n",
            "Requirement already satisfied: numpy in /usr/local/lib/python3.10/dist-packages (from imageio) (1.22.4)\n",
            "Requirement already satisfied: pillow>=8.3.2 in /usr/local/lib/python3.10/dist-packages (from imageio) (8.4.0)\n"
          ]
        }
      ]
    },
    {
      "cell_type": "code",
      "execution_count": 8,
      "metadata": {
        "id": "z0sYIABLfjH0"
      },
      "outputs": [],
      "source": [
        "import csk\n",
        "import numpy as np\n",
        "from imageio import imread, imsave\n",
        "import cv2 # (Optional) OpenCV for drawing bounding boxes\n",
        "from rPPG_preprocessing import *"
      ]
    },
    {
      "cell_type": "code",
      "source": [
        "class CSKFaceDetector():\n",
        " \n",
        "    def __init__(self):\n",
        "        self.face_rect = []\n",
        "        self.tracker = csk.CSK() # CSK instance\n",
        "        self.init = True        \n",
        "    def track_face(self,frame,gray):\n",
        "        if self.init:\n",
        "            frame_cropped,gray_cropped,self.face_rect = crop_to_face(frame,gray,[0,0,0,0])\n",
        "            self.tracker.init(gray,self.face_rect[0],self.face_rect[1],self.face_rect[2],self.face_rect[3])\n",
        "            self.init = False\n",
        "            return frame_cropped,gray_cropped,self.face_rect\n",
        "        else:\n",
        "            self.face_rect[0], self.face_rect[1] = self.tracker.update(gray) # update CSK tracker and output estimated position\n",
        "            return crop_frame(frame,self.face_rect),crop_frame(gray,self.face_rect),self.face_rect\n",
        "\n",
        "\n",
        "\n",
        "# 1st frame's groundtruth information"
      ],
      "metadata": {
        "id": "8myLQig4ftcy"
      },
      "execution_count": 9,
      "outputs": []
    },
    {
      "cell_type": "code",
      "source": [],
      "metadata": {
        "id": "vitwD69Sgh4h"
      },
      "execution_count": null,
      "outputs": []
    }
  ]
}